{
  "cells": [
    {
      "cell_type": "markdown",
      "metadata": {
        "id": "n8_1HWzecQCL"
      },
      "source": [
        "Web Scraping com BeautifulSoup e RegEx"
      ]
    },
    {
      "cell_type": "code",
      "execution_count": 13,
      "metadata": {
        "colab": {
          "base_uri": "https://localhost:8080/"
        },
        "id": "e9pXIMIWByAp",
        "outputId": "5f009345-ead6-404e-dfd3-e544472470cf"
      },
      "outputs": [
        {
          "output_type": "stream",
          "name": "stdout",
          "text": [
            "BeautifulSoup -> 4.6.3\n",
            "urllib -> 3.7\n"
          ]
        }
      ],
      "source": [
        "import bs4\n",
        "import urllib.request as urllib_request\n",
        "\n",
        "print(\"BeautifulSoup ->\", bs4.__version__)\n",
        "print(\"urllib ->\", urllib_request.__version__)"
      ]
    },
    {
      "cell_type": "code",
      "execution_count": 14,
      "metadata": {
        "id": "HecXJWrCcQCO"
      },
      "outputs": [],
      "source": [
        "from urllib.request import urlopen\n",
        "from bs4 import BeautifulSoup\n",
        "\n",
        "url = 'https://cursos.alura.com.br/user/patriciatayna/fullCertificate/9953f706cd263f4880765ccbb01ba635'\n",
        "\n",
        "response = urlopen(url)\n",
        "html = response.read()\n",
        "\n",
        "soup = BeautifulSoup(html, 'html.parser')\n",
        "#soup"
      ]
    },
    {
      "cell_type": "code",
      "source": [
        "import re\n",
        "padrao = re.compile(r'([0-9]{1,2}hrs)')"
      ],
      "metadata": {
        "id": "lmu-Ov3IOLaL"
      },
      "execution_count": 15,
      "outputs": []
    },
    {
      "cell_type": "code",
      "source": [
        "string_soup = str(soup)\n",
        "\n",
        "lista_horas = padrao.findall(string_soup)\n",
        "#lista_horas\n",
        "\n",
        "lista_com_numeros = []\n",
        "for carga_horaria in lista_horas:\n",
        "  lista_com_numeros.append(int(carga_horaria[:-3]))\n",
        "#lista_com_numeros"
      ],
      "metadata": {
        "id": "tzLIE31SSw5-"
      },
      "execution_count": 16,
      "outputs": []
    },
    {
      "cell_type": "code",
      "source": [
        "soma = sum(lista_com_numeros)"
      ],
      "metadata": {
        "id": "ZOTXnKG-VlSO"
      },
      "execution_count": 17,
      "outputs": []
    },
    {
      "cell_type": "code",
      "source": [
        "print(f'Total de {len(lista_horas)} cursos concluídos, totalizando a carga horária estimada em {soma} horas')"
      ],
      "metadata": {
        "colab": {
          "base_uri": "https://localhost:8080/"
        },
        "id": "DFuA2M8US2kv",
        "outputId": "ae94e876-3a26-4efc-b8d7-d3ac49215b94"
      },
      "execution_count": 18,
      "outputs": [
        {
          "output_type": "stream",
          "name": "stdout",
          "text": [
            "Total de 34 cursos concluídos, totalizando a carga horária estimada em 320 horas\n"
          ]
        }
      ]
    }
  ],
  "metadata": {
    "colab": {
      "name": "Total de horas aula na Alura.ipynb",
      "provenance": [],
      "collapsed_sections": []
    },
    "kernelspec": {
      "display_name": "Python 3",
      "language": "python",
      "name": "python3"
    },
    "language_info": {
      "codemirror_mode": {
        "name": "ipython",
        "version": 3
      },
      "file_extension": ".py",
      "mimetype": "text/x-python",
      "name": "python",
      "nbconvert_exporter": "python",
      "pygments_lexer": "ipython3",
      "version": "3.7.3"
    }
  },
  "nbformat": 4,
  "nbformat_minor": 0
}